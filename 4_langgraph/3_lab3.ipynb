{
 "cells": [
  {
   "cell_type": "markdown",
   "metadata": {},
   "source": [
    "## Welcome to Week 4, Day 4\n",
    "\n",
    "This is the start of an AWESOME project! Really simple and very effective."
   ]
  },
  {
   "cell_type": "code",
   "execution_count": 23,
   "metadata": {},
   "outputs": [],
   "source": [
    "from typing import Annotated\n",
    "from typing_extensions import TypedDict\n",
    "from langgraph.graph import StateGraph, START\n",
    "from langgraph.graph.message import add_messages\n",
    "from dotenv import load_dotenv\n",
    "from IPython.display import Image, display\n",
    "import gradio as gr\n",
    "from langgraph.prebuilt import ToolNode, tools_condition\n",
    "import requests\n",
    "import os\n",
    "from langchain.agents import Tool\n",
    "\n",
    "from langchain_openai import ChatOpenAI\n",
    "from langgraph.checkpoint.memory import MemorySaver"
   ]
  },
  {
   "cell_type": "code",
   "execution_count": 24,
   "metadata": {},
   "outputs": [
    {
     "data": {
      "text/plain": [
       "True"
      ]
     },
     "execution_count": 24,
     "metadata": {},
     "output_type": "execute_result"
    }
   ],
   "source": [
    "load_dotenv(override=True)"
   ]
  },
  {
   "cell_type": "code",
   "execution_count": 25,
   "metadata": {},
   "outputs": [],
   "source": [
    "import os\n",
    "from langchain_openai import AzureChatOpenAI\n",
    "import httpx\n",
    "\n",
    "http_client = httpx.Client(\n",
    "    verify=r\"C:\\amdcerts.pem\",  # Use corporate certs\n",
    "    timeout=30.0\n",
    ")\n",
    "\n",
    "# Create async client too (if needed)\n",
    "async_http_client = httpx.AsyncClient(\n",
    "    verify=r\"C:\\amdcerts.pem\",\n",
    "    timeout=30.0\n",
    ")\n",
    "\n",
    "# 2) Bypass proxy for autox\n",
    "os.environ[\"NO_PROXY\"] = \",\".join(filter(None, [\n",
    "    os.getenv(\"NO_PROXY\",\"\"),\n",
    "    \".autox.corp.amdocs.azr\",\n",
    "    \"chat.autox.corp.amdocs.azr\",\n",
    "    \"localhost\",\"127.0.0.1\"\n",
    "]))\n",
    "os.environ[\"no_proxy\"] = os.environ[\"NO_PROXY\"]\n"
   ]
  },
  {
   "cell_type": "code",
   "execution_count": 26,
   "metadata": {},
   "outputs": [],
   "source": [
    "from langchain_openai import AzureChatOpenAI\n",
    "from langchain_core.messages import HumanMessage,AIMessage,SystemMessage\n",
    "import os\n",
    "\n",
    "AUTOX_API_KEY  = os.getenv(\"AUTOX_API_KEY\")\n",
    "NTNET_USERNAME = (os.getenv(\"NTNET_USERNAME\") or \"\").strip()\n",
    "\n",
    "# 4. Create LLM with custom HTTP client\n",
    "llm = AzureChatOpenAI(\n",
    "    azure_endpoint=\"https://chat.autox.corp.amdocs.azr/api/v1/proxy\",\n",
    "    api_key=AUTOX_API_KEY,\n",
    "    azure_deployment=\"gpt-4o-128k\",\n",
    "    model=\"gpt-4o-128k\",\n",
    "    temperature=0.1,\n",
    "    openai_api_version=\"2024-08-01-preview\",\n",
    "    default_headers={\"username\": NTNET_USERNAME, \"application\": \"testing-proxyapi\"},\n",
    "    http_client=http_client,\n",
    "    http_async_client=async_http_client\n",
    ")"
   ]
  },
  {
   "cell_type": "markdown",
   "metadata": {},
   "source": [
    "### Asynchronous LangGraph\n",
    "\n",
    "To run a tool:  \n",
    "Sync: `tool.run(inputs)`  \n",
    "Async: `await tool.arun(inputs)`\n",
    "\n",
    "To invoke the graph:  \n",
    "Sync: `graph.invoke(state)`  \n",
    "Async: `await graph.ainvoke(state)`"
   ]
  },
  {
   "cell_type": "code",
   "execution_count": 27,
   "metadata": {},
   "outputs": [],
   "source": [
    "class State(TypedDict):\n",
    "    \n",
    "    messages: Annotated[list, add_messages]\n",
    "\n",
    "\n",
    "graph_builder = StateGraph(State)"
   ]
  },
  {
   "cell_type": "code",
   "execution_count": 28,
   "metadata": {},
   "outputs": [],
   "source": [
    "pushover_token = os.getenv(\"PUSHOVER_TOKEN\")\n",
    "pushover_user = os.getenv(\"PUSHOVER_USER\")\n",
    "pushover_url = \"https://api.pushover.net/1/messages.json\"\n",
    "\n",
    "def push(text: str):\n",
    "    \"\"\"Send a push notification to the user\"\"\"\n",
    "    requests.post(pushover_url, data = {\"token\": pushover_token, \"user\": pushover_user, \"message\": text})\n",
    "\n",
    "tool_push = Tool(\n",
    "        name=\"send_push_notification\",\n",
    "        func=push,\n",
    "        description=\"useful for when you want to send a push notification\"\n",
    "    )"
   ]
  },
  {
   "cell_type": "markdown",
   "metadata": {},
   "source": [
    "## Extra installation step - if you don't have Node and Playwright on your computer\n",
    "\n",
    "Next, you need to install NodeJS and Playwright on your computer if you don't already have them. Please see instructions here:\n",
    "\n",
    "[Node and Playwright setup](../setup/SETUP-node.md)"
   ]
  },
  {
   "cell_type": "markdown",
   "metadata": {},
   "source": [
    "## And now - after Installing Playwright, a heads up for Windows PC Users:\n",
    "\n",
    "While executing the next few cells, you might hit a problem with the Playwright browser raising a NotImplementedError.\n",
    "\n",
    "This should work when we move to python modules, but it can cause problems in Windows in a notebook.\n",
    "\n",
    "If you it this error and would like to run the notebook, you need to make a small change which seems quite hacky! You need to do this AFTER installing Playwright (prior cells)\n",
    "\n",
    "1. Right click in `.venv` in the File Explorer on the left and select \"Find in folder\"\n",
    "2. Search for `asyncio.set_event_loop_policy(WindowsSelectorEventLoopPolicy())`  \n",
    "3. That code should be found in a line of code in a file called `kernelapp.py`\n",
    "4. Comment out the entire else clause that this line is a part of - see the fragment below. Be sure to have the \"pass\" statement after the ImportError line.\n",
    "5. Restart the kernel by pressing the \"Restart\" button above\n",
    "\n",
    "```python\n",
    "        if sys.platform.startswith(\"win\") and sys.version_info >= (3, 8):\n",
    "            import asyncio\n",
    " \n",
    "            try:\n",
    "                from asyncio import WindowsProactorEventLoopPolicy, WindowsSelectorEventLoopPolicy\n",
    "            except ImportError:\n",
    "                pass\n",
    "                # not affected\n",
    "           # else:\n",
    "            #    if type(asyncio.get_event_loop_policy()) is WindowsProactorEventLoopPolicy:\n",
    "                    # WindowsProactorEventLoopPolicy is not compatible with tornado 6\n",
    "                    # fallback to the pre-3.8 default of Selector\n",
    "                    # asyncio.set_event_loop_policy(WindowsSelectorEventLoopPolicy())\n",
    "```\n",
    "\n",
    "Thank you to student Nicolas for finding this, and to Kalyan, Yaki, Zibin and Bhaskar for confirming that this worked for them! And to Vladislav for the extra pointers.\n",
    "\n",
    "As an alternative, you can just move to a Python module (which we do anyway in Day 5)"
   ]
  },
  {
   "cell_type": "code",
   "execution_count": 29,
   "metadata": {},
   "outputs": [],
   "source": [
    "# Introducing nest_asyncio\n",
    "# Python async code only allows for one \"event loop\" processing aynchronous events.\n",
    "# The `nest_asyncio` library patches this, and is used for special situations, if you need to run a nested event loop.\n",
    "\n",
    "import nest_asyncio\n",
    "nest_asyncio.apply()"
   ]
  },
  {
   "cell_type": "markdown",
   "metadata": {},
   "source": [
    "### The LangChain community\n",
    "\n",
    "One of the remarkable things about LangChain is the rich community around it.\n",
    "\n",
    "Check this out:\n"
   ]
  },
  {
   "cell_type": "code",
   "execution_count": 30,
   "metadata": {},
   "outputs": [],
   "source": [
    "from langchain_community.agent_toolkits import PlayWrightBrowserToolkit\n",
    "from langchain_community.tools.playwright.utils import create_async_playwright_browser\n",
    "\n",
    "# If you get a NotImplementedError here or later, see the Heads Up at the top of the notebook\n",
    "\n",
    "async_browser =  create_async_playwright_browser(headless=False)  # headful mode\n",
    "toolkit = PlayWrightBrowserToolkit.from_browser(async_browser=async_browser)\n",
    "tools = toolkit.get_tools()"
   ]
  },
  {
   "cell_type": "code",
   "execution_count": 32,
   "metadata": {},
   "outputs": [
    {
     "name": "stdout",
     "output_type": "stream",
     "text": [
      "click_element=async_browser=<Browser type=<BrowserType name=chromium executable_path=C:\\Users\\vishnuna\\AppData\\Local\\ms-playwright\\chromium-1169\\chrome-win\\chrome.exe> version=136.0.7103.25>\n",
      "navigate_browser=async_browser=<Browser type=<BrowserType name=chromium executable_path=C:\\Users\\vishnuna\\AppData\\Local\\ms-playwright\\chromium-1169\\chrome-win\\chrome.exe> version=136.0.7103.25>\n",
      "previous_webpage=async_browser=<Browser type=<BrowserType name=chromium executable_path=C:\\Users\\vishnuna\\AppData\\Local\\ms-playwright\\chromium-1169\\chrome-win\\chrome.exe> version=136.0.7103.25>\n",
      "extract_text=async_browser=<Browser type=<BrowserType name=chromium executable_path=C:\\Users\\vishnuna\\AppData\\Local\\ms-playwright\\chromium-1169\\chrome-win\\chrome.exe> version=136.0.7103.25>\n",
      "extract_hyperlinks=async_browser=<Browser type=<BrowserType name=chromium executable_path=C:\\Users\\vishnuna\\AppData\\Local\\ms-playwright\\chromium-1169\\chrome-win\\chrome.exe> version=136.0.7103.25>\n",
      "get_elements=async_browser=<Browser type=<BrowserType name=chromium executable_path=C:\\Users\\vishnuna\\AppData\\Local\\ms-playwright\\chromium-1169\\chrome-win\\chrome.exe> version=136.0.7103.25>\n",
      "current_webpage=async_browser=<Browser type=<BrowserType name=chromium executable_path=C:\\Users\\vishnuna\\AppData\\Local\\ms-playwright\\chromium-1169\\chrome-win\\chrome.exe> version=136.0.7103.25>\n"
     ]
    }
   ],
   "source": [
    "for tool in tools:\n",
    "    print(f\"{tool.name}={tool}\")"
   ]
  },
  {
   "cell_type": "code",
   "execution_count": 34,
   "metadata": {},
   "outputs": [],
   "source": [
    "tool_dict = {tool.name:tool for tool in tools}\n",
    "\n",
    "navigate_tool = tool_dict.get(\"navigate_browser\")\n",
    "extract_text_tool = tool_dict.get(\"extract_text\")\n",
    "\n",
    "    \n",
    "await navigate_tool.arun({\"url\": \"https://www.cnn.com\"})\n",
    "text = await extract_text_tool.arun({})"
   ]
  },
  {
   "cell_type": "code",
   "execution_count": 15,
   "metadata": {},
   "outputs": [
    {
     "name": "stdout",
     "output_type": "stream",
     "text": [
      "Breaking News, Latest News and Videos | CNN CNN values your feedback\n",
      "1. How relevant is this ad to you? 2. Did you encounter any technical\n",
      "issues? No Video player was slow to load content Video content never\n",
      "loaded Ad froze or did not finish loading Video content did not start\n",
      "after ad Audio on ad was too loud Other issues Ad never loaded Ad\n",
      "prevented/slowed the page from loading Content moved around while ad\n",
      "loaded Ad was repetitive to ads I've seen previously Other issues\n",
      "Cancel Submit Thank You! Your effort and contribution in providing\n",
      "this feedback is much\n",
      "appreciated. Close Ad Feedback Close icon US World Politics Business\n",
      "Health Entertainment Style Travel Sports Science Climate Weather\n",
      "Ukraine-Russia War Israel-Hamas War Games More US World Politics\n",
      "Business Health Entertainment Style Travel Sports Science Climate\n",
      "Weather Ukraine-Russia War Israel-Hamas War Games Watch Listen Live TV\n",
      "Subscribe Sign in My Account Settings Newsletters Topics you follow\n",
      "Sign out Your CNN account Sign in to your CNN account Sign in My\n",
      "Account Settings Newsletters Topics you follow Sign out Your CNN\n",
      "account Sign in to your CNN account Live TV Listen Watch Edition US\n",
      "International Arabic Español Edition US International Arabic Español\n",
      "World Africa Americas Asia Australia China Europe India Middle East\n",
      "United Kingdom US Politics Trump Facts First CNN Polls 2025 Elections\n",
      "Business Tech Media Calculators Videos Markets Pre-markets After-Hours\n",
      "Fear & Greed Investing Markets Now Nightcap Health Life, But Better\n",
      "Fitness Food Sleep Mindfulness Relationships Entertainment Movies\n",
      "Television Celebrity Tech Innovate Foreseeable Future Mission: Ahead\n",
      "Work Transformed Innovative Cities Style Arts Design Fashion\n",
      "Architecture Luxury Beauty Video Travel Destinations Food & Drink Stay\n",
      "News Videos Sports Football Tennis Golf Motorsport US Sports Olympics\n",
      "Climbing Esports Hockey Science Space Life Unearthed Climate Solutions\n",
      "Weather Weather Video Climate Ukraine-Russia War Israel-Hamas War\n",
      "Features As Equals Call to Earth Freedom Project Impact Your World\n",
      "Inside Africa CNN Heroes Watch Live TV CNN Fast Shows A-Z CNN10 CNN\n",
      "Max CNN TV Schedules Listen CNN 5 Things Chasing Life with Dr. Sanjay\n",
      "Gupta The Assignment with Audie Cornish One Thing Tug of War CNN\n",
      "Political Briefing The Axe Files All There Is with Anderson Cooper All\n",
      "CNN Audio podcasts Games Daily Crossword Jumble Crossword Photo\n",
      "Shuffle Sudoblock Sudoku 5 Things Quiz About CNN Photos Investigations\n",
      "CNN Profiles CNN Leadership CNN Newsletters Work for CNN Follow CNN\n",
      "Suspected drug boat Ace Frehley dies Carbon-absorbing bridge Monastery\n",
      "hanging off cliff Egypt’s North Coast ‘Hot ice cream’ Renoir’s\n",
      "drawings • Video 0:23 Getty Images Video Trump says Maduro ‘doesn’t\n",
      "want to f**k around with the United States’ 0:23 Analysis Trump says\n",
      "the quiet part out loud about Venezuela. He should read the CIA\n",
      "history Analysis Trump’s politically dicey saber-rattling in Venezuela\n",
      "US Navy detaining two survivors of strike against alleged drug boat •\n",
      "Breaking News Breaking News Max Mumby/Indigo/Getty Images/File\n",
      "Breaking News Prince Andrew gives up royal titles after series of\n",
      "scandals Zelensky meets with Trump at White House Show all • Live\n",
      "Updates Live Updates Tom Brenner/AFP/Getty Images Live Updates Trump\n",
      "says he and Zelensky will discuss new capabilities that would allow\n",
      "Ukraine to strike deeper into Russia Video Zelensky congratulates\n",
      "Trump on Gaza ceasefire deal 0:52 North Korean submunition found in\n",
      "drone used to attack Ukraine, report finds Video Trump says he thinks\n",
      "he can convince Putin to end war in Ukraine 0:24 Trump hasn’t closed\n",
      "the door to sending Tomahawk missiles to Ukraine Play Subtitles Off\n",
      "Caption Styling Settings Catch up on today's global news • Source: CNN\n",
      "Video Catch up on today’s global news photo illustration by Alberto\n",
      "Mier/CNN What is mirror life? Scientists are sounding the alarm\n",
      "Digital renders visualizing Diamanti's bridge in the real world.\n",
      "Visualization by Fortes Vision. Courtesy of Masoud Akbarzadeh and\n",
      "Massive Form This 3D-printed, carbon-absorbing bridge is inspired by\n",
      "bones • Video 1:20 CNN Video Inside one of the world’s largest Hermès\n",
      "collections 1:20 Ad Feedback More top stories Henry Nicholls/AFP/Getty\n",
      "Images US helps sink world’s first global carbon tax after threatening\n",
      "sanctions against countries supporting it Live Updates John Bolton\n",
      "pleads not guilty at arraignment Picasso painting goes missing en\n",
      "route to exhibition Video Mourners hold funeral for returned Hamas\n",
      "hostage 1:12 Bomb explodes outside home of top Italian investigative\n",
      "journalist Live Updates Markets seesaw as volatility grips Wall Street\n",
      "New details released about the death of Diane Keaton Art and Style\n",
      "Baek Se-hee/Instagram Baek Se-hee, author of bestselling memoir ‘I\n",
      "Want To Die But I Want To Eat Tteokbokki,’ dies at 35 Gilbert\n",
      "Carrasquillo/GC Images/Getty Images Look of the Week From Jimi Hendrix\n",
      "to Jodie Turner-Smith, why fashion loves a military jacket Oct 17,\n",
      "2025 Leah Dolan/CNN This centuries-old movie monster gets a 2025\n",
      "makeover Oct 17, 2025 Ad Feedback Women and the workforce CNN Another\n",
      "‘she-cession’ is rearing its head: Women are leaving the workforce at\n",
      "alarming rates Michael Nagle/Bloomberg/Getty Images 'I opted to take\n",
      "greater control': Why some women have left the workforce Ad Feedback\n",
      "Travel and beyond Boaz Rottem/Alamy Stock Photo Getting naked with\n",
      "strangers: What happened when I tried a Japanese hot spring Amir\n",
      "Makar/AFP/Getty Images Unlocking Africa’s airspace could be a\n",
      "multibillion-dollar opportunity • Video 2:36 CNN British pubs can be\n",
      "intimidating for visitors. But there are tricks to blending in 2:36 Ad\n",
      "Feedback US politics Show all Jabin Botsford/The Washington Post/Getty\n",
      "Images Trump claimed India agreed to stop buying Russian oil. New\n",
      "Delhi says it knows nothing about it • Analysis Analysis Charly\n",
      "Triballeau/AFP/Getty Images/File Analysis Joe Rogan is unpleasantly\n",
      "surprised by Trump’s actions. He’s hardly alone Brandon Bell/Getty\n",
      "Images Another nationwide day of protest is set for this weekend.\n",
      "Here’s what we know about ‘No Kings’ 2 CELEBRITIES & ENTERTAINMENT\n",
      "Michael Tran/AFP/Getty Images Jennifer Lopez doesn’t believe she’s\n",
      "ever ‘truly been loved.’ Here’s a reminder of everyone she’s talking\n",
      "about Tim Mosenfelder/Archive Photos/Getty Images Ace Frehley, Kiss’\n",
      "original lead guitarist and founding member, dies at 74 Mario\n",
      "Anzuoni/Reuters Keanu Reeves reveals the stage name he almost chose –\n",
      "and thank goodness he didn’t Ad Feedback Health and Wellness\n",
      "gbh007/iStockphoto/Getty Images ‘Japanese’ interval walking is an easy\n",
      "way to become fit, experts say Video Why protein powders have the\n",
      "internet in a scare 0:53 Sports Brett Davis/USA Today Sports/Reuters\n",
      "‘It’s easier to fight the whole world than to fight yourself’: Why\n",
      "transgender swimmer Lia Thomas wouldn’t change a thing From child\n",
      "actor to Olympic champion: Meet snowboarding superstar Su Yiming\n",
      "Artificial intelligence miniseries/E+/Getty Images Instagram will soon\n",
      "let parents stop teens from chatting with AI characters Is AI really\n",
      "making electricity bills higher? Here’s what the experts say Ad\n",
      "Feedback Business Show all Bob Andres/Atlanta Journal-Constitution/AP\n",
      "Smartmatic indicted in foreign bribery case, possibly endangering its\n",
      "lawsuits against Fox News and Giuliani Immigration Scott Olson/Getty\n",
      "Images Frenzy of developments cement Chicago as epicenter of\n",
      "immigration crackdown Extreme weather CNN Weather Severe thunderstorms\n",
      "with dangerous winds, isolated tornadoes threaten South and Midwest\n",
      "this weekend Must-watch videos • Video 0:31 CNN Video Trump says\n",
      "Maduro ‘doesn’t want to f**k around with the United States’ 0:31 •\n",
      "Video 0:45 CNN Video Viral street performance in Russia led to arrest\n",
      "0:45 • Video 3:14 CNN Video Tapper explains the Pentagon’s new press\n",
      "rules 3:14 • Video 0:24 Pool Video Trump says he thinks he can\n",
      "convince Putin to end war in Ukraine 0:24 • Video 0:52 POOL Video\n",
      "Zelensky congratulates Trump on ceasefire deal 0:52 • Video 1:12\n",
      "Reuters Video Mourners hold funeral for returned Hamas hostage 1:12 •\n",
      "Video 2:48 CNN Video We took our big fluffy mic to frieze art fair\n",
      "2:48 • Video 1:35 Getty Images Video How CA voters could decide who\n",
      "controls the US House 1:35 • Video 1:11 Reuters Video Crowds say\n",
      "goodbye to Kenyan leader at state funeral 1:11 • Video 1:25 CNN Video\n",
      "CNN visits German weapon maker 1:25 • Video 1:32 Imelda Avila-Thomas\n",
      "Video Federal worker: Shutdown is ‘taking food off my table’ 1:32 •\n",
      "Video 3:08 Graham Platner for Senate Video Deleted posts show Maine\n",
      "Senate Candidate’s raw views on politics 3:08 • Video 0:18 CNN Video\n",
      "John Bolton arrives at federal court after being indicted 0:18 • Video\n",
      "1:38 cnn Video Israel extends detention of prominent Palestinian medic\n",
      "1:38 • Video 1:18 Getty Images Video Venezuelan President Maduro\n",
      "accuses Trump of trying to overthrow countries 1:18 • Video 0:40 US\n",
      "pool via Reuters Video Trump comments on price of weight loss drugs\n",
      "0:40 • Video 1:04 Reuters Video 720-foot dinosaur footprint trail\n",
      "unearthed in UK quarry 1:04 • Video 2:27 CNN Video CNN investigates\n",
      "newborn baby girl buried alive 2:27 • Video 2:24 WNBC-TV/WNJU-TV Video\n",
      "NYC mayoral candidates trade barbs in first general debate 2:24 •\n",
      "Video 2:34 CNN Video Eric Trump reacts to hot mic moment of Trump and\n",
      "Indonesia president 2:34 • Video 0:54 CNN Video Chef Andrés: 600K\n",
      "meals we cook in Gaza ‘not enough’ 0:54 • Video 1:04 Getty Images\n",
      "Video John Bolton reacts to his indictment 1:04 • Video 2:04 Kevin\n",
      "Mazur/WireImage/Getty Images Video Britney Spears’ ex says she called\n",
      "Timberlake before wedding night 2:04 • Video 0:56 University of\n",
      "Richmond Video Candidate’s violent text messages take center stage in\n",
      "Virginia AG race 0:56 • Video 1:19 \"Call Her Daddy\" podcast Video Kim\n",
      "Kardashian gets candid on ‘Call Her Daddy’ podcast 1:19 WHERE EUROPE\n",
      "MEETS ASIA Show all Yasin Akgul/AFP/Getty Images What really happens\n",
      "inside a Turkish bath Barry Neild/CNN The ghost town that has stood\n",
      "empty for more than a century tegmen/iStockphoto/Getty Images The\n",
      "hidden ‘eagle’s nest’ city that Alexander the Great couldn’t conquer\n",
      "Shutterstock 23 delicious dishes from Turkey Ad Feedback More from CNN\n",
      "Brian Snyder/Reuters/File 4 universities decline White House offer for\n",
      "expanded access to federal funding in exchange for demands. Here’s\n",
      "what we know Analysis Joe Rogan is unpleasantly surprised by Trump’s\n",
      "actions. He’s hardly alone Day in the life of a furloughed federal\n",
      "worker: Government employees turn to TikTok Keanu Reeves reveals the\n",
      "stage name he almost chose – and thank goodness he didn’t It’s a bird!\n",
      "It’s a plane! It’s a chemtrail? A new conspiracy theory finds traction\n",
      "at Kennedy’s HHS Brands can’t choose their customers. So what happens\n",
      "when extremists wear their clothes? Ghostly shot of hyena wins\n",
      "Wildlife Photographer of the Year award Subscribe Sign in My Account\n",
      "Settings Newsletters Topics you follow Sign out Your CNN account Sign\n",
      "in to your CNN account Live TV Listen Watch World Africa Americas Asia\n",
      "Australia China Europe India Middle East United Kingdom US Politics\n",
      "Trump Facts First CNN Polls 2025 Elections Business Tech Media\n",
      "Calculators Videos Markets Pre-markets After-Hours Fear & Greed\n",
      "Investing Markets Now Nightcap Health Life, But Better Fitness Food\n",
      "Sleep Mindfulness Relationships Entertainment Movies Television\n",
      "Celebrity Tech Innovate Foreseeable Future Mission: Ahead Work\n",
      "Transformed Innovative Cities Style Arts Design Fashion Architecture\n",
      "Luxury Beauty Video Travel Destinations Food & Drink Stay News Videos\n",
      "Sports Football Tennis Golf Motorsport US Sports Olympics Climbing\n",
      "Esports Hockey Science Space Life Unearthed Climate Solutions Weather\n",
      "Weather Video Climate Ukraine-Russia War Israel-Hamas War Features As\n",
      "Equals Call to Earth Freedom Project Impact Your World Inside Africa\n",
      "CNN Heroes Watch Live TV CNN Fast Shows A-Z CNN10 CNN Max CNN TV\n",
      "Schedules Listen CNN 5 Things Chasing Life with Dr. Sanjay Gupta The\n",
      "Assignment with Audie Cornish One Thing Tug of War CNN Political\n",
      "Briefing The Axe Files All There Is with Anderson Cooper All CNN Audio\n",
      "podcasts Games Daily Crossword Jumble Crossword Photo Shuffle\n",
      "Sudoblock Sudoku 5 Things Quiz About CNN Photos Investigations CNN\n",
      "Profiles CNN Leadership CNN Newsletters Work for CNN Watch Listen Live\n",
      "TV Follow CNN Subscribe Sign in My Account Settings Newsletters Topics\n",
      "you follow Sign out Your CNN account Sign in to your CNN account Terms\n",
      "of Use Privacy Policy Manage Cookies Ad Choices Accessibility & CC\n",
      "About Newsletters Transcripts © 2025 Cable News Network. A Warner\n",
      "Bros. Discovery Company. All Rights Reserved. CNN Sans ™ & © 2016\n",
      "Cable News Network. Privacy Policy For privacy options, please see our\n",
      "privacy policy: https://www.cnn.com/privacy . Back Button Cookie List\n",
      "Search Icon Filter Icon Clear checkbox label label Apply Cancel\n",
      "Consent Leg.Interest checkbox label label checkbox label label\n",
      "checkbox label label Close\n"
     ]
    }
   ],
   "source": [
    "import textwrap\n",
    "print(textwrap.fill(text))"
   ]
  },
  {
   "cell_type": "code",
   "execution_count": 35,
   "metadata": {},
   "outputs": [],
   "source": [
    "all_tools = tools + [tool_push]"
   ]
  },
  {
   "cell_type": "code",
   "execution_count": 36,
   "metadata": {},
   "outputs": [],
   "source": [
    "\n",
    "llm_with_tools = llm.bind_tools(all_tools)\n",
    "\n",
    "\n",
    "def chatbot(state: State):\n",
    "    return {\"messages\": [llm_with_tools.invoke(state[\"messages\"])]}\n"
   ]
  },
  {
   "cell_type": "code",
   "execution_count": 37,
   "metadata": {},
   "outputs": [
    {
     "data": {
      "image/png": "[encoded data removed]",
      "text/plain": [
       "<IPython.core.display.Image object>"
      ]
     },
     "metadata": {},
     "output_type": "display_data"
    }
   ],
   "source": [
    "\n",
    "graph_builder = StateGraph(State)\n",
    "graph_builder.add_node(\"chatbot\", chatbot)\n",
    "graph_builder.add_node(\"tools\", ToolNode(tools=all_tools))\n",
    "graph_builder.add_conditional_edges( \"chatbot\", tools_condition, \"tools\")\n",
    "graph_builder.add_edge(\"tools\", \"chatbot\")\n",
    "graph_builder.add_edge(START, \"chatbot\")\n",
    "\n",
    "memory = MemorySaver()\n",
    "graph = graph_builder.compile(checkpointer=memory)\n",
    "display(Image(graph.get_graph().draw_mermaid_png()))"
   ]
  },
  {
   "cell_type": "code",
   "execution_count": 38,
   "metadata": {},
   "outputs": [
    {
     "name": "stdout",
     "output_type": "stream",
     "text": [
      "* Running on local URL:  http://127.0.0.1:7862\n",
      "* To create a public link, set `share=True` in `launch()`.\n"
     ]
    },
    {
     "data": {
      "text/html": [
       "<div><iframe src=\"http://127.0.0.1:7862/\" width=\"100%\" height=\"500\" allow=\"autoplay; camera; microphone; clipboard-read; clipboard-write;\" frameborder=\"0\" allowfullscreen></iframe></div>"
      ],
      "text/plain": [
       "<IPython.core.display.HTML object>"
      ]
     },
     "metadata": {},
     "output_type": "display_data"
    },
    {
     "data": {
      "text/plain": []
     },
     "execution_count": 38,
     "metadata": {},
     "output_type": "execute_result"
    }
   ],
   "source": [
    "config = {\"configurable\": {\"thread_id\": \"10\"}}\n",
    "\n",
    "async def chat(user_input: str, history):\n",
    "    result = await graph.ainvoke({\"messages\": [{\"role\": \"user\", \"content\": user_input}]}, config=config)\n",
    "    return result[\"messages\"][-1].content\n",
    "\n",
    "\n",
    "gr.ChatInterface(chat, type=\"messages\").launch()"
   ]
  },
  {
   "cell_type": "code",
   "execution_count": null,
   "metadata": {},
   "outputs": [],
   "source": []
  }
 ],
 "metadata": {
  "kernelspec": {
   "display_name": ".venv",
   "language": "python",
   "name": "python3"
  },
  "language_info": {
   "codemirror_mode": {
    "name": "ipython",
    "version": 3
   },
   "file_extension": ".py",
   "mimetype": "text/x-python",
   "name": "python",
   "nbconvert_exporter": "python",
   "pygments_lexer": "ipython3",
   "version": "3.12.6"
  }
 },
 "nbformat": 4,
 "nbformat_minor": 2
}
