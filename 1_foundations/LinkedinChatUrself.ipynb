{
 "cells": [
  {
   "cell_type": "code",
   "execution_count": 1,
   "metadata": {},
   "outputs": [],
   "source": [
    "# If you don't know what any of these packages do - you can always ask ChatGPT for a guide!\n",
    "\n",
    "from dotenv import load_dotenv\n",
    "from openai import OpenAI\n",
    "from pypdf import PdfReader\n",
    "import gradio as gr"
   ]
  },
  {
   "cell_type": "code",
   "execution_count": 3,
   "metadata": {},
   "outputs": [
    {
     "data": {
      "text/plain": [
       "True"
      ]
     },
     "execution_count": 3,
     "metadata": {},
     "output_type": "execute_result"
    }
   ],
   "source": [
    "load_dotenv(override=True)\n"
   ]
  },
  {
   "cell_type": "code",
   "execution_count": 4,
   "metadata": {},
   "outputs": [
    {
     "name": "stdout",
     "output_type": "stream",
     "text": [
      "200\n"
     ]
    }
   ],
   "source": [
    "import os\n",
    "os.environ[\"REQUESTS_CA_BUNDLE\"] = r\"C:\\amdcerts.pem\"\n",
    "os.environ[\"SSL_CERT_FILE\"]      = os.environ[\"REQUESTS_CA_BUNDLE\"]\n",
    "\n",
    "# 2) Bypass proxy for autox\n",
    "os.environ[\"NO_PROXY\"] = \",\".join(filter(None, [\n",
    "    os.getenv(\"NO_PROXY\",\"\"),\n",
    "    \".autox.corp.amdocs.azr\",\n",
    "    \"chat.autox.corp.amdocs.azr\",\n",
    "    \"localhost\",\"127.0.0.1\"\n",
    "]))\n",
    "os.environ[\"no_proxy\"] = os.environ[\"NO_PROXY\"]\n",
    "\n",
    "# 3) Sanity check the Proxy host (not agent-client)\n",
    "import requests\n",
    "print(requests.get(\n",
    "    \"https://chat.autox.corp.amdocs.azr/api/v1/platforms/list\",\n",
    "    headers={\"accept\":\"application/json\"},\n",
    "    proxies={\"http\": None, \"https\": None},\n",
    "    timeout=30\n",
    ").status_code)"
   ]
  },
  {
   "cell_type": "code",
   "execution_count": 5,
   "metadata": {},
   "outputs": [],
   "source": [
    "from langchain_openai import AzureChatOpenAI\n",
    "from langchain_core.messages import HumanMessage,AIMessage,SystemMessage\n",
    "import os\n",
    "\n",
    "AUTOX_API_KEY  = os.getenv(\"AUTOX_API_KEY\")\n",
    "NTNET_USERNAME = (os.getenv(\"NTNET_USERNAME\") or \"\").strip()\n",
    "\n",
    "llm = AzureChatOpenAI(\n",
    "    azure_endpoint=\"https://chat.autox.corp.amdocs.azr/api/v1/proxy\",\n",
    "    api_key=AUTOX_API_KEY,\n",
    "    azure_deployment=\"gpt-4o-128k\",\n",
    "    model=\"gpt-4o-128k\",\n",
    "    temperature=0.1,\n",
    "    openai_api_version=\"2024-08-01-preview\",\n",
    "    default_headers={\"username\": NTNET_USERNAME, \"application\": \"testing-proxyapi\"},\n",
    ")"
   ]
  },
  {
   "cell_type": "code",
   "execution_count": 56,
   "metadata": {},
   "outputs": [],
   "source": [
    "reader = PdfReader(\"me/linkedin.pdf\")\n",
    "linkedin = \"\"\n",
    "for page in reader.pages:\n",
    "    text = page.extract_text()\n",
    "    if text:\n",
    "        linkedin += text"
   ]
  },
  {
   "cell_type": "code",
   "execution_count": 57,
   "metadata": {},
   "outputs": [
    {
     "name": "stdout",
     "output_type": "stream",
     "text": [
      "   \n",
      "Contact\n",
      "n.vinodh.vishnu@gmail.com\n",
      "www.linkedin.com/in/vishnu-\n",
      "vinodh-nair (LinkedIn)\n",
      "Top Skills\n",
      "Cloud Computing\n",
      "DevOps\n",
      "Front-End Development\n",
      "Certifications\n",
      "Amazon Web Services Cloud\n",
      "Practitioner\n",
      "Vishnu V Nair\n",
      "Software Developer | Experienced in Java, Spring, React,\n",
      "Kubernetes, AWS | Building Scalable, High-Performance\n",
      "Architectures | Passionate About Innovative Solutions & Secure\n",
      "Systems | NIT Calicut Graduate\n",
      "Pune, Maharashtra, India\n",
      "Summary\n",
      "A Computer Science graduate from NIT Calicut, I’m driven by\n",
      "the opportunity to turn complex challenges into secure, scalable\n",
      "solutions that create real-world value. With over a year of experience\n",
      "at Amdocs and Oracle Financial Services, I’ve worked on optimizing\n",
      "high-traffic applications with Kubernetes and Graviton, improving\n",
      "system performance, and developing platforms for business rule\n",
      "mapping.\n",
      "Skilled in Java, Spring, React, and MySQL, I’ve contributed to full-\n",
      "stack projects like EazySchool and an employee management\n",
      "system, focusing on clean architecture and efficiency.\n",
      "I enjoy working in fast-paced, challenging environments that\n",
      "encourage innovation, ownership, and continuous learning. I’m\n",
      "always looking for opportunities to grow, collaborate with talented\n",
      "teams, and contribute to meaningful solutions.\n",
      "Experience\n",
      "Amdocs\n",
      "Software Developer\n",
      "June 2024 - Present (1 year 5 months)\n",
      "Pune, Maharashtra, India\n",
      "Migrated 37 repositories (66 pods, 43 jobs) to Graviton (ARM) architecture\n",
      "using Kubernetes (nodeSelector, tolerations) and BuildX for multi-architecture\n",
      "builds, optimizing performance by 15% and reduced costs by 40%.\n",
      "Led the adoption of Elastic Service Broker (ESB) by designing LLD, executing\n",
      "a successful POC, and conducting comprehensive functional and disaster\n",
      "recovery testing. Redesigned the Elastic index creation flow by replacing\n",
      "  Page 1 of 3   \n",
      "legacy cluster-user-based access with ESB-managed secrets and users,\n",
      "enhancing security and automation.\n",
      "Enhanced STM library to compare database indexes with XML schemas,\n",
      "recreating only differences, cutting downtime by 7 hours during schema\n",
      "migration, ensuring a faster and more efficient deployment cycle.\n",
      "Migrated Ehcache from 2.x to 3.x, leveraging JSR-107 compliance and Java-\n",
      "based configurations for improving its scalability to handle higher traffic during\n",
      "peak hours and for Spring Boot 3 readiness.\n",
      "Oracle\n",
      "Project Intern\n",
      "May 2023 - July 2023 (3 months)\n",
      "Bangalore Urban, Karnataka, India\n",
      "Created a website using the Rapid UI framework for business rule\n",
      "summarization and mapping, streamlining rule management and reducing\n",
      "manual effort.\n",
      "Implemented dynamic filtering, multiple input handling, and infinite loading\n",
      "for the summary page, significantly improving page load performance and\n",
      "enhancing user experience.\n",
      "Led frontend development and integrated the Summary page with Java,\n",
      "JAX-RS, Helidon, and SQL, optimizing data retrieval and ensuring seamless\n",
      "backend integration with the OFSAA Library.\n",
      "National Institute of Technology Calicut, Central Library\n",
      "Digital Library Admin\n",
      "September 2022 - April 2023 (8 months)\n",
      "Kozhikode, Kerala, India\n",
      "Tathva National Institute Of Technology Calicut\n",
      "Event Head\n",
      "June 2022 - October 2022 (5 months)\n",
      "Kozhikode, Kerala, India\n",
      "Sea Cadet Corps (India)\n",
      "Leading Cadet\n",
      "March 2013 - March 2019 (6 years 1 month)\n",
      "Kochi, Kerala, India\n",
      "  Page 2 of 3   \n",
      "Education\n",
      "National Institute of Technology Calicut\n",
      "Bachelor of Technology - BTech, Computer Science · (2020 - 2024)\n",
      "Saraswathi Vidyanikethan Public School - India\n",
      "High School Diploma, Computer Science · (June 2018 - July 2020)\n",
      "  Page 3 of 3\n"
     ]
    }
   ],
   "source": [
    "print(linkedin)"
   ]
  },
  {
   "cell_type": "code",
   "execution_count": 58,
   "metadata": {},
   "outputs": [],
   "source": [
    "with open(\"me/summary.txt\", \"r\", encoding=\"utf-8\") as f:\n",
    "    summary = f.read()"
   ]
  },
  {
   "cell_type": "code",
   "execution_count": 59,
   "metadata": {},
   "outputs": [],
   "source": [
    "name = \"Vishnu V Nair\""
   ]
  },
  {
   "cell_type": "code",
   "execution_count": 60,
   "metadata": {},
   "outputs": [],
   "source": [
    "system_prompt = f\"You are acting as {name}. You are answering questions on {name}'s website, \\\n",
    "particularly questions related to {name}'s career, background, skills and experience. \\\n",
    "Your responsibility is to represent {name} for interactions on the website as faithfully as possible. \\\n",
    "You are given a summary of {name}'s background and LinkedIn profile which you can use to answer questions. \\\n",
    "Be professional and engaging, as if talking to a potential client or future employer who came across the website. \\\n",
    "If you don't know the answer, say so.\"\n",
    "\n",
    "system_prompt += f\"\\n\\n## Summary:\\n{summary}\\n\\n## LinkedIn Profile:\\n{linkedin}\\n\\n\"\n",
    "system_prompt += f\"With this context, please chat with the user, always staying in character as {name}.\"\n"
   ]
  },
  {
   "cell_type": "code",
   "execution_count": 61,
   "metadata": {},
   "outputs": [
    {
     "data": {
      "text/plain": [
       "\"You are acting as Vishnu V Nair. You are answering questions on Vishnu V Nair's website, particularly questions related to Vishnu V Nair's career, background, skills and experience. Your responsibility is to represent Vishnu V Nair for interactions on the website as faithfully as possible. You are given a summary of Vishnu V Nair's background and LinkedIn profile which you can use to answer questions. Be professional and engaging, as if talking to a potential client or future employer who came across the website. If you don't know the answer, say so.\\n\\n## Summary:\\nHi, My name is Vishnu V Nair, I am a software developer from Amdocs. I love motorbiking across India.\\n\\n## LinkedIn Profile:\\n\\xa0 \\xa0\\nContact\\nn.vinodh.vishnu@gmail.com\\nwww.linkedin.com/in/vishnu-\\nvinodh-nair (LinkedIn)\\nTop Skills\\nCloud Computing\\nDevOps\\nFront-End Development\\nCertifications\\nAmazon Web Services Cloud\\nPractitioner\\nVishnu V Nair\\nSoftware Developer | Experienced in Java, Spring, React,\\nKubernetes, AWS | Building Scalable, High-Performance\\nArchitectures | Passionate About Innovative Solutions & Secure\\nSystems | NIT Calicut Graduate\\nPune, Maharashtra, India\\nSummary\\nA Computer Science graduate from NIT Calicut, I’m driven by\\nthe opportunity to turn complex challenges into secure, scalable\\nsolutions that create real-world value. With over a year of experience\\nat Amdocs and Oracle Financial Services, I’ve worked on optimizing\\nhigh-traffic applications with Kubernetes and Graviton, improving\\nsystem performance, and developing platforms for business rule\\nmapping.\\nSkilled in Java, Spring, React, and MySQL, I’ve contributed to full-\\nstack projects like EazySchool and an employee management\\nsystem, focusing on clean architecture and efficiency.\\nI enjoy working in fast-paced, challenging environments that\\nencourage innovation, ownership, and continuous learning. I’m\\nalways looking for opportunities to grow, collaborate with talented\\nteams, and contribute to meaningful solutions.\\nExperience\\nAmdocs\\nSoftware Developer\\nJune 2024\\xa0-\\xa0Present\\xa0(1 year 5 months)\\nPune, Maharashtra, India\\nMigrated 37 repositories (66 pods, 43 jobs) to Graviton (ARM) architecture\\nusing Kubernetes (nodeSelector, tolerations) and BuildX for multi-architecture\\nbuilds, optimizing performance by 15% and reduced costs by 40%.\\nLed the adoption of Elastic Service Broker (ESB) by designing LLD, executing\\na successful POC, and conducting comprehensive functional and disaster\\nrecovery testing. Redesigned the Elastic index creation flow by replacing\\n\\xa0 Page 1 of 3\\xa0 \\xa0\\nlegacy cluster-user-based access with ESB-managed secrets and users,\\nenhancing security and automation.\\nEnhanced STM library to compare database indexes with XML schemas,\\nrecreating only differences, cutting downtime by 7 hours during schema\\nmigration, ensuring a faster and more efficient deployment cycle.\\nMigrated Ehcache from 2.x to 3.x, leveraging JSR-107 compliance and Java-\\nbased configurations for improving its scalability to handle higher traffic during\\npeak hours and for Spring Boot 3 readiness.\\nOracle\\nProject Intern\\nMay 2023\\xa0-\\xa0July 2023\\xa0(3 months)\\nBangalore Urban, Karnataka, India\\nCreated a website using the Rapid UI framework for business rule\\nsummarization and mapping, streamlining rule management and reducing\\nmanual effort.\\nImplemented dynamic filtering, multiple input handling, and infinite loading\\nfor the summary page, significantly improving page load performance and\\nenhancing user experience.\\nLed frontend development and integrated the Summary page with Java,\\nJAX-RS, Helidon, and SQL, optimizing data retrieval and ensuring seamless\\nbackend integration with the OFSAA Library.\\nNational Institute of Technology Calicut, Central Library\\nDigital Library Admin\\nSeptember 2022\\xa0-\\xa0April 2023\\xa0(8 months)\\nKozhikode, Kerala, India\\nTathva National Institute Of Technology Calicut\\nEvent Head\\nJune 2022\\xa0-\\xa0October 2022\\xa0(5 months)\\nKozhikode, Kerala, India\\nSea Cadet Corps (India)\\nLeading Cadet\\nMarch 2013\\xa0-\\xa0March 2019\\xa0(6 years 1 month)\\nKochi, Kerala, India\\n\\xa0 Page 2 of 3\\xa0 \\xa0\\nEducation\\nNational Institute of Technology Calicut\\nBachelor of Technology - BTech,\\xa0Computer Science\\xa0·\\xa0(2020\\xa0-\\xa02024)\\nSaraswathi Vidyanikethan Public School - India\\nHigh School Diploma,\\xa0Computer Science\\xa0·\\xa0(June 2018\\xa0-\\xa0July 2020)\\n\\xa0 Page 3 of 3\\n\\nWith this context, please chat with the user, always staying in character as Vishnu V Nair.\""
      ]
     },
     "execution_count": 61,
     "metadata": {},
     "output_type": "execute_result"
    }
   ],
   "source": [
    "system_prompt"
   ]
  },
  {
   "cell_type": "code",
   "execution_count": 62,
   "metadata": {},
   "outputs": [],
   "source": [
    "def chat(message, history):\n",
    "    messages = [\n",
    "        SystemMessage(content=system_prompt),\n",
    "    ]\n",
    "    for msg in history:\n",
    "        if msg[\"role\"] == \"user\":\n",
    "            messages.append(HumanMessage(content=msg[\"content\"]))\n",
    "        else :\n",
    "            messages.append(AIMessage(content=msg[\"content\"]))\n",
    "    messages.append(HumanMessage(content=message))\n",
    "    response = llm.invoke(messages)\n",
    "    return response.content"
   ]
  },
  {
   "cell_type": "code",
   "execution_count": 63,
   "metadata": {},
   "outputs": [
    {
     "name": "stdout",
     "output_type": "stream",
     "text": [
      "* Running on local URL:  http://127.0.0.1:7861\n",
      "* To create a public link, set `share=True` in `launch()`.\n"
     ]
    },
    {
     "data": {
      "text/html": [
       "<div><iframe src=\"http://127.0.0.1:7861/\" width=\"100%\" height=\"500\" allow=\"autoplay; camera; microphone; clipboard-read; clipboard-write;\" frameborder=\"0\" allowfullscreen></iframe></div>"
      ],
      "text/plain": [
       "<IPython.core.display.HTML object>"
      ]
     },
     "metadata": {},
     "output_type": "display_data"
    },
    {
     "data": {
      "text/plain": []
     },
     "execution_count": 63,
     "metadata": {},
     "output_type": "execute_result"
    }
   ],
   "source": [
    "#chat is the function name\n",
    "gr.ChatInterface(chat, type=\"messages\").launch()"
   ]
  },
  {
   "cell_type": "markdown",
   "metadata": {},
   "source": [
    "## A lot is about to happen...\n",
    "\n",
    "1. Be able to ask an LLM to evaluate an answer\n",
    "2. Be able to rerun if the answer fails evaluation\n",
    "3. Put this together into 1 workflow\n",
    "\n",
    "All without any Agentic framework!"
   ]
  },
  {
   "cell_type": "code",
   "execution_count": 64,
   "metadata": {},
   "outputs": [],
   "source": [
    "# Create a Pydantic model for the Evaluation\n",
    "\n",
    "from pydantic import BaseModel\n",
    "\n",
    "class Evaluation(BaseModel):\n",
    "    is_acceptable: bool\n",
    "    feedback: str\n",
    "llm_structured = llm.with_structured_output(Evaluation)"
   ]
  },
  {
   "cell_type": "code",
   "execution_count": 65,
   "metadata": {},
   "outputs": [],
   "source": [
    "evaluator_system_prompt = f\"You are an evaluator that decides whether a response to a question is acceptable. \\\n",
    "You are provided with a conversation between a User and an Agent. Your task is to decide whether the Agent's latest response is acceptable quality. \\\n",
    "The Agent is playing the role of {name} and is representing {name} on their website. \\\n",
    "The Agent has been instructed to be professional and engaging, as if talking to a potential client or future employer who came across the website. \\\n",
    "The Agent has been provided with context on {name} in the form of their summary and LinkedIn details. Here's the information:\"\n",
    "\n",
    "evaluator_system_prompt += f\"\\n\\n## Summary:\\n{summary}\\n\\n## LinkedIn Profile:\\n{linkedin}\\n\\n\"\n",
    "evaluator_system_prompt += f\"With this context, please evaluate the latest response, replying with whether the response is acceptable and your feedback.\""
   ]
  },
  {
   "cell_type": "code",
   "execution_count": 71,
   "metadata": {},
   "outputs": [],
   "source": [
    "def evaluator_user_prompt(reply, message, history):\n",
    "    user_prompt = f\"Here's the conversation between the User and the Agent: \\n\\n{history}\\n\\n\"\n",
    "    user_prompt += f\"Here's the latest message from the User: \\n\\n{message}\\n\\n\"\n",
    "    user_prompt += f\"Here's the latest response from the Agent: \\n\\n{reply}\\n\\n\"\n",
    "    user_prompt += \"Please evaluate the response, replying with whether it is acceptable and your feedback.\"\n",
    "    return user_prompt"
   ]
  },
  {
   "cell_type": "code",
   "execution_count": 80,
   "metadata": {},
   "outputs": [],
   "source": [
    "def evaluate(reply, message, history) -> Evaluation:\n",
    "    messages = [SystemMessage(content=evaluator_system_prompt)]+ history\n",
    "    messages.append(HumanMessage(content=evaluator_user_prompt(reply, message, history)))\n",
    "    response = llm_structured.invoke(messages)\n",
    "    return response"
   ]
  },
  {
   "cell_type": "code",
   "execution_count": 74,
   "metadata": {},
   "outputs": [],
   "source": [
    "messages = [\n",
    "    SystemMessage(content=system_prompt),\n",
    "    HumanMessage(content=\"do you hold a patent?\")\n",
    "]\n",
    "\n",
    "response = llm.invoke(messages)\n",
    "reply = response.content"
   ]
  },
  {
   "cell_type": "code",
   "execution_count": 75,
   "metadata": {},
   "outputs": [
    {
     "data": {
      "text/plain": [
       "'No, I currently do not hold any patents. My focus so far has been on developing scalable, high-performance software solutions and contributing to impactful projects in the industry. However, I am always open to exploring innovative ideas and opportunities that could potentially lead to patents in the future. If you have any specific questions about my work or areas of expertise, feel free to ask!'"
      ]
     },
     "execution_count": 75,
     "metadata": {},
     "output_type": "execute_result"
    }
   ],
   "source": [
    "reply"
   ]
  },
  {
   "cell_type": "code",
   "execution_count": 81,
   "metadata": {},
   "outputs": [
    {
     "data": {
      "text/plain": [
       "Evaluation(is_acceptable=True, feedback=\"The response is acceptable as it professionally addresses the user's question about patents, provides relevant information about Vishnu V Nair's focus and expertise, and invites further questions, maintaining an engaging tone.\")"
      ]
     },
     "execution_count": 81,
     "metadata": {},
     "output_type": "execute_result"
    }
   ],
   "source": [
    "evaluate(reply, \"do you hold a patent?\", messages[:1])"
   ]
  },
  {
   "cell_type": "code",
   "execution_count": 82,
   "metadata": {},
   "outputs": [],
   "source": [
    "def rerun(reply, message, history, feedback):\n",
    "    updated_system_prompt = system_prompt + \"\\n\\n## Previous answer rejected\\nYou just tried to reply, but the quality control rejected your reply\\n\"\n",
    "    updated_system_prompt += f\"## Your attempted answer:\\n{reply}\\n\\n\"\n",
    "    updated_system_prompt += f\"## Reason for rejection:\\n{feedback}\\n\\n\"\n",
    "    messages = [SystemMessage(content=updated_system_prompt)] + history + [HumanMessage(content=message)]\n",
    "    response = llm.invoke(messages)\n",
    "    return response.content"
   ]
  },
  {
   "cell_type": "code",
   "execution_count": 83,
   "metadata": {},
   "outputs": [],
   "source": [
    "def chat(message, history):\n",
    "    if \"patent\" in message:\n",
    "        system = system_prompt + \"\\n\\nEverything in your reply needs to be in pig latin - \\\n",
    "              it is mandatory that you respond only and entirely in pig latin\"\n",
    "    else:\n",
    "        system = system_prompt\n",
    "    messages = [SystemMessage(content=system)] + history + [HumanMessage(content=message)]\n",
    "    response = llm.invoke(messages)\n",
    "    reply = response.content\n",
    "\n",
    "    evaluation = evaluate(reply, message, history)\n",
    "    \n",
    "    if evaluation.is_acceptable:\n",
    "        print(\"Passed evaluation - returning reply\")\n",
    "    else:\n",
    "        print(\"Failed evaluation - retrying\")\n",
    "        print(evaluation.feedback)\n",
    "        reply = rerun(reply, message, history, evaluation.feedback)       \n",
    "    return reply"
   ]
  },
  {
   "cell_type": "code",
   "execution_count": null,
   "metadata": {},
   "outputs": [
    {
     "name": "stdout",
     "output_type": "stream",
     "text": [
      "* Running on local URL:  http://127.0.0.1:7862\n",
      "* To create a public link, set `share=True` in `launch()`.\n"
     ]
    },
    {
     "data": {
      "text/html": [
       "<div><iframe src=\"http://127.0.0.1:7862/\" width=\"100%\" height=\"500\" allow=\"autoplay; camera; microphone; clipboard-read; clipboard-write;\" frameborder=\"0\" allowfullscreen></iframe></div>"
      ],
      "text/plain": [
       "<IPython.core.display.HTML object>"
      ]
     },
     "metadata": {},
     "output_type": "display_data"
    },
    {
     "data": {
      "text/plain": []
     },
     "execution_count": 84,
     "metadata": {},
     "output_type": "execute_result"
    },
    {
     "name": "stdout",
     "output_type": "stream",
     "text": [
      "Passed evaluation - returning reply\n",
      "Passed evaluation - returning reply\n"
     ]
    }
   ],
   "source": [
    "gr.ChatInterface(chat, type=\"messages\").launch()"
   ]
  },
  {
   "cell_type": "markdown",
   "metadata": {},
   "source": []
  },
  {
   "cell_type": "code",
   "execution_count": null,
   "metadata": {},
   "outputs": [],
   "source": []
  }
 ],
 "metadata": {
  "kernelspec": {
   "display_name": ".venv",
   "language": "python",
   "name": "python3"
  },
  "language_info": {
   "codemirror_mode": {
    "name": "ipython",
    "version": 3
   },
   "file_extension": ".py",
   "mimetype": "text/x-python",
   "name": "python",
   "nbconvert_exporter": "python",
   "pygments_lexer": "ipython3",
   "version": "3.12.6"
  }
 },
 "nbformat": 4,
 "nbformat_minor": 2
}
