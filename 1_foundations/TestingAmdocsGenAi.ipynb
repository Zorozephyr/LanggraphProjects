{
 "cells": [
  {
   "cell_type": "code",
   "execution_count": 47,
   "metadata": {},
   "outputs": [],
   "source": [
    "# First let's do an import. If you get an Import Error, double check that your Kernel is correct..\n",
    "\n",
    "from dotenv import load_dotenv\n"
   ]
  },
  {
   "cell_type": "code",
   "execution_count": 48,
   "metadata": {},
   "outputs": [
    {
     "data": {
      "text/plain": [
       "True"
      ]
     },
     "execution_count": 48,
     "metadata": {},
     "output_type": "execute_result"
    }
   ],
   "source": [
    "# Next it's time to load the API keys into environment variables\n",
    "# If this returns false, see the next cell!\n",
    "\n",
    "load_dotenv(override=True)"
   ]
  },
  {
   "cell_type": "code",
   "execution_count": 49,
   "metadata": {},
   "outputs": [
    {
     "name": "stdout",
     "output_type": "stream",
     "text": [
      "OpenAI API Key exists and begins AIzaSyD2\n"
     ]
    }
   ],
   "source": [
    "# Check the key - if you're not using OpenAI, check whichever key you're using! Ollama doesn't need a key.\n",
    "\n",
    "import os\n",
    "openai_api_key = os.getenv('GOOGLE_API_KEY')\n",
    "\n",
    "if openai_api_key:\n",
    "    print(f\"OpenAI API Key exists and begins {openai_api_key[:8]}\")\n",
    "else:\n",
    "    print(\"OpenAI API Key not set - please head to the troubleshooting guide in the setup folder\")\n",
    "    \n"
   ]
  },
  {
   "cell_type": "code",
   "execution_count": 57,
   "metadata": {},
   "outputs": [
    {
     "name": "stdout",
     "output_type": "stream",
     "text": [
      "200\n"
     ]
    }
   ],
   "source": [
    "import os\n",
    "from dotenv import load_dotenv\n",
    "load_dotenv(override=True)\n",
    "\n",
    "# 1) Trust corporate certs (must be the provided amdcerts.pem bundle)\n",
    "os.environ[\"REQUESTS_CA_BUNDLE\"] = r\"C:\\amdcerts.pem\"\n",
    "os.environ[\"SSL_CERT_FILE\"]      = os.environ[\"REQUESTS_CA_BUNDLE\"]\n",
    "\n",
    "# 2) Bypass proxy for autox\n",
    "os.environ[\"NO_PROXY\"] = \",\".join(filter(None, [\n",
    "    os.getenv(\"NO_PROXY\",\"\"),\n",
    "    \".autox.corp.amdocs.azr\",\n",
    "    \"chat.autox.corp.amdocs.azr\",\n",
    "    \"localhost\",\"127.0.0.1\"\n",
    "]))\n",
    "os.environ[\"no_proxy\"] = os.environ[\"NO_PROXY\"]\n",
    "\n",
    "# 3) Sanity check the Proxy host (not agent-client)\n",
    "import requests\n",
    "print(requests.get(\n",
    "    \"https://chat.autox.corp.amdocs.azr/api/v1/platforms/list\",\n",
    "    headers={\"accept\":\"application/json\"},\n",
    "    proxies={\"http\": None, \"https\": None},\n",
    "    timeout=30\n",
    ").status_code)"
   ]
  },
  {
   "cell_type": "code",
   "execution_count": null,
   "metadata": {},
   "outputs": [],
   "source": [
    "\n",
    "from langchain_openai import AzureChatOpenAI\n",
    "from langchain_core.messages import HumanMessage,AIMessage\n",
    "import os\n",
    "\n",
    "AUTOX_API_KEY  = os.getenv(\"AUTOX_API_KEY\")\n",
    "NTNET_USERNAME = (os.getenv(\"NTNET_USERNAME\") or \"\").strip()\n",
    "\n",
    "llm = AzureChatOpenAI(\n",
    "    azure_endpoint=\"https://chat.autox.corp.amdocs.azr/api/v1/proxy\",\n",
    "    api_key=AUTOX_API_KEY,\n",
    "    azure_deployment=\"gpt-4o-128k\",\n",
    "    model=\"gpt-4o-128k\",\n",
    "    temperature=0.1,\n",
    "    openai_api_version=\"2023-05-15\",\n",
    "    default_headers={\"username\": NTNET_USERNAME, \"application\": \"testing-proxyapi\"},\n",
    ")"
   ]
  },
  {
   "cell_type": "code",
   "execution_count": 59,
   "metadata": {},
   "outputs": [
    {
     "name": "stdout",
     "output_type": "stream",
     "text": [
      "Hello! I'm an AI assistant created to help with information, answer questions, and provide support on a variety of topics. Think of me as a friendly and knowledgeable companion here to assist you. How can I help you today? 😊\n"
     ]
    }
   ],
   "source": [
    "resp = llm.invoke([HumanMessage(content=\"Hello, who are you?\")])\n",
    "print(resp.content)"
   ]
  },
  {
   "cell_type": "code",
   "execution_count": 62,
   "metadata": {},
   "outputs": [
    {
     "name": "stdout",
     "output_type": "stream",
     "text": [
      "Hello, Nikhil! Nice to meet you. How can I assist you today?\n",
      "Your name is Nikhil! 😊 How can I help you today?\n",
      "You introduced yourself as Nikhil, and I acknowledged your name while offering assistance.\n"
     ]
    }
   ],
   "source": [
    "# And now call it! Any problems, head to the troubleshooting guide\n",
    "# This uses GPT 4.1 nano, the incredibly cheap model\n",
    "# The APIs guide (guide 9) has exact instructions for using even cheaper or free alternatives to OpenAI\n",
    "# If you get a NameError, head to the guides folder (guide 6) to learn about NameErrors - always instantly fixable\n",
    "from langchain_core.messages import HumanMessage,AIMessage\n",
    "history: list = []\n",
    "def ask(user_text):\n",
    "    msgs = history + [HumanMessage(content=user_text)]\n",
    "    ai=llm.invoke(msgs)\n",
    "    history.extend([HumanMessage(content=user_text),AIMessage(content=ai.content)])\n",
    "    return ai.content\n",
    "\n",
    "print(ask(\"Hi, my name is Nikhil. Acknowledge.\"))\n",
    "print(ask(\"What is my name?\"))\n",
    "print(ask(\"Summarize our conversation in one sentence.\"))\n"
   ]
  },
  {
   "cell_type": "code",
   "execution_count": null,
   "metadata": {},
   "outputs": [],
   "source": [
    "# And now - let's ask for a question:\n",
    "\n",
    "question = \"Please propose a hard, challenging question to assess someone's IQ. Respond only with the question.\"\n",
    "messages = [{\"role\": \"user\", \"content\": question}]\n"
   ]
  }
 ],
 "metadata": {
  "kernelspec": {
   "display_name": ".venv",
   "language": "python",
   "name": "python3"
  },
  "language_info": {
   "codemirror_mode": {
    "name": "ipython",
    "version": 3
   },
   "file_extension": ".py",
   "mimetype": "text/x-python",
   "name": "python",
   "nbconvert_exporter": "python",
   "pygments_lexer": "ipython3",
   "version": "3.12.6"
  }
 },
 "nbformat": 4,
 "nbformat_minor": 2
}
